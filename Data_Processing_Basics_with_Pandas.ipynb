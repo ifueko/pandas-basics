{
  "nbformat": 4,
  "nbformat_minor": 0,
  "metadata": {
    "colab": {
      "name": "Data Processing Basics with Pandas",
      "provenance": [],
      "collapsed_sections": []
    },
    "kernelspec": {
      "name": "python3",
      "display_name": "Python 3"
    }
  },
  "cells": [
    {
      "cell_type": "markdown",
      "metadata": {
        "id": "wqMg7-t3ueNh"
      },
      "source": [
        "# Pandas Basics\r\n",
        "\r\n",
        "In this notebook we'll be talking about the `pandas` library, which simplifies many common data loading and manipulation functions.\r\n",
        "\r\n",
        "While much of this processing can be using `numpy`, `pandas` significantly reduces the time and effort necessary for dataset manipulation.\r\n",
        "\r\n",
        "In this notebook we'll first go over `pandas` data structures as well as loading and saving capabilities. Then we will discuss dataset manipulation, including subset selection, column manipulation, and creating/aggregating new columns. Finally we'll talk about simple data visualization using `pandas`, which is actually built into the library.\r\n",
        "\r\n",
        "\r\n",
        "# 1. Imports\r\n",
        "\r\n",
        "This time we'll import `numpy` as per for data generation, and we'll also import the `pandas` library."
      ]
    },
    {
      "cell_type": "code",
      "metadata": {
        "id": "GinszwgjuHXP"
      },
      "source": [
        "import numpy as np\r\n",
        "import pandas as pd\r\n",
        "pd.set_option(\"display.max_rows\", None, \"display.max_columns\", None) # changing settings so we print everything in our dataframes.\r\n",
        "#print(\"\\n\".join(pd.__dir__())) # shows available objects, functions and submodules. Uncomment and execute to see full list."
      ],
      "execution_count": null,
      "outputs": []
    },
    {
      "cell_type": "markdown",
      "metadata": {
        "id": "jooOZGyhwlSt"
      },
      "source": [
        "## 2. `pandas` Data Structures\r\n",
        "The `DataFrame` object is the base object that we manipulate in `pandas` when it comes to loading and clearing datasets, but there's also another base object that is quite useful in the library.\r\n",
        "\r\n",
        "The `Series` object is an array like object that often represents one row or column within a `DataFrame`. The can be created an manipulated alone, or used in conjuction with the dataframe. It can also be manipulated in ways similar to the numpy array Lets get into some simple examples:"
      ]
    },
    {
      "cell_type": "markdown",
      "metadata": {
        "id": "M86RAbx53NXB"
      },
      "source": [
        "### Creating a series from a list or numpy array and manipulating it like an array"
      ]
    },
    {
      "cell_type": "code",
      "metadata": {
        "colab": {
          "base_uri": "https://localhost:8080/"
        },
        "id": "At7rJCCc3QX1",
        "outputId": "64789f63-1cc9-49da-8c37-9a225186a8a4"
      },
      "source": [
        "series = pd.Series([1, 2, 3, 4, 5])\n",
        "print(series, series ** 2, np.sum(series), sep='\\n')"
      ],
      "execution_count": null,
      "outputs": [
        {
          "output_type": "stream",
          "text": [
            "0    1\n",
            "1    2\n",
            "2    3\n",
            "3    4\n",
            "4    5\n",
            "dtype: int64\n",
            "0     1\n",
            "1     4\n",
            "2     9\n",
            "3    16\n",
            "4    25\n",
            "dtype: int64\n",
            "15\n"
          ],
          "name": "stdout"
        }
      ]
    },
    {
      "cell_type": "code",
      "metadata": {
        "colab": {
          "base_uri": "https://localhost:8080/"
        },
        "id": "MJxqJW6X4gCN",
        "outputId": "eaad7892-5e0d-40ad-a05e-bb91801ffd02"
      },
      "source": [
        "series = pd.Series(np.random.randn(5))\n",
        "print(series, series ** 2, np.sum(series), sep='\\n')"
      ],
      "execution_count": null,
      "outputs": [
        {
          "output_type": "stream",
          "text": [
            "0    0.103664\n",
            "1   -1.827809\n",
            "2    0.208953\n",
            "3    0.391719\n",
            "4    0.375120\n",
            "dtype: float64\n",
            "0    0.010746\n",
            "1    3.340884\n",
            "2    0.043661\n",
            "3    0.153444\n",
            "4    0.140715\n",
            "dtype: float64\n",
            "-0.7483522252730928\n"
          ],
          "name": "stdout"
        }
      ]
    },
    {
      "cell_type": "markdown",
      "metadata": {
        "id": "yR-HX0PX3Qgy"
      },
      "source": [
        "### Creating a dataframe from a series\n",
        "\n"
      ]
    },
    {
      "cell_type": "code",
      "metadata": {
        "colab": {
          "base_uri": "https://localhost:8080/"
        },
        "id": "00kfvY-P3v6X",
        "outputId": "23ad69e4-5fa7-4d04-9459-2e0839da8d14"
      },
      "source": [
        "series_list = {\n",
        "  'col_{}'.format(i): pd.Series(np.random.randn(5)) for i in range(5)\n",
        "}\n",
        "print(series_list)\n",
        "\n",
        "df = pd.DataFrame(data=series_list)\n",
        "print(df)"
      ],
      "execution_count": null,
      "outputs": [
        {
          "output_type": "stream",
          "text": [
            "{'col_0': 0   -0.946818\n",
            "1    0.069128\n",
            "2   -1.382536\n",
            "3    0.595900\n",
            "4   -1.587448\n",
            "dtype: float64, 'col_1': 0   -0.568587\n",
            "1   -0.419540\n",
            "2   -1.318906\n",
            "3    1.242591\n",
            "4   -0.496685\n",
            "dtype: float64, 'col_2': 0   -0.156138\n",
            "1   -0.071825\n",
            "2   -0.848958\n",
            "3   -1.266568\n",
            "4    0.454908\n",
            "dtype: float64, 'col_3': 0   -0.129684\n",
            "1    0.618978\n",
            "2   -1.419520\n",
            "3    1.330801\n",
            "4   -1.104949\n",
            "dtype: float64, 'col_4': 0    0.026159\n",
            "1    0.210070\n",
            "2   -0.066269\n",
            "3    0.496374\n",
            "4    0.182656\n",
            "dtype: float64}\n",
            "      col_0     col_1     col_2     col_3     col_4\n",
            "0 -0.946818 -0.568587 -0.156138 -0.129684  0.026159\n",
            "1  0.069128 -0.419540 -0.071825  0.618978  0.210070\n",
            "2 -1.382536 -1.318906 -0.848958 -1.419520 -0.066269\n",
            "3  0.595900  1.242591 -1.266568  1.330801  0.496374\n",
            "4 -1.587448 -0.496685  0.454908 -1.104949  0.182656\n"
          ],
          "name": "stdout"
        }
      ]
    },
    {
      "cell_type": "markdown",
      "metadata": {
        "id": "cSJV49Ro3wT2"
      },
      "source": [
        "We see that the dataframe acts much like a matrix, and the series acts like individual columns within the matrix. We can index any individual column or row in the dataframe using the `df.loc` and indexing capabilities, which will return a `Series`. If we select multiple columns, that will result in another `DataFrame`. \n",
        "\n",
        "Also note that operations performed on the resulting objects will not affect the original dataframe."
      ]
    },
    {
      "cell_type": "code",
      "metadata": {
        "colab": {
          "base_uri": "https://localhost:8080/"
        },
        "id": "rN5bpcr25wOc",
        "outputId": "e85f1996-80b6-4935-b401-bd231cc7338e"
      },
      "source": [
        "col1 = df['col_1']\n",
        "col12 = df[['col_1', 'col_2']]\n",
        "col12 *= 2\n",
        "print(col1, col12, type(col1), type(col12), sep='\\n') \n",
        "print(df)# dataframe is preserved"
      ],
      "execution_count": null,
      "outputs": [
        {
          "output_type": "stream",
          "text": [
            "0   -0.568587\n",
            "1   -0.419540\n",
            "2   -1.318906\n",
            "3    1.242591\n",
            "4   -0.496685\n",
            "Name: col_1, dtype: float64\n",
            "      col_1     col_2\n",
            "0 -1.137174 -0.312276\n",
            "1 -0.839080 -0.143650\n",
            "2 -2.637812 -1.697916\n",
            "3  2.485182 -2.533136\n",
            "4 -0.993371  0.909816\n",
            "<class 'pandas.core.series.Series'>\n",
            "<class 'pandas.core.frame.DataFrame'>\n",
            "      col_0     col_1     col_2     col_3     col_4\n",
            "0 -0.946818 -0.568587 -0.156138 -0.129684  0.026159\n",
            "1  0.069128 -0.419540 -0.071825  0.618978  0.210070\n",
            "2 -1.382536 -1.318906 -0.848958 -1.419520 -0.066269\n",
            "3  0.595900  1.242591 -1.266568  1.330801  0.496374\n",
            "4 -1.587448 -0.496685  0.454908 -1.104949  0.182656\n"
          ],
          "name": "stdout"
        }
      ]
    },
    {
      "cell_type": "code",
      "metadata": {
        "colab": {
          "base_uri": "https://localhost:8080/"
        },
        "id": "DDcNu4WYDTin",
        "outputId": "5bcd6012-a57f-467d-c9b4-daea475fac4d"
      },
      "source": [
        "row1 = df.loc[1]\n",
        "print(row1); row1 = row1 * 2; print(row1)\n",
        "print(df) # original dataframe preserved"
      ],
      "execution_count": null,
      "outputs": [
        {
          "output_type": "stream",
          "text": [
            "col_0    0.069128\n",
            "col_1   -0.419540\n",
            "col_2   -0.071825\n",
            "col_3    0.618978\n",
            "col_4    0.210070\n",
            "Name: 1, dtype: float64\n",
            "col_0    0.138255\n",
            "col_1   -0.839080\n",
            "col_2   -0.143650\n",
            "col_3    1.237957\n",
            "col_4    0.420141\n",
            "Name: 1, dtype: float64\n",
            "      col_0     col_1     col_2     col_3     col_4\n",
            "0 -0.946818 -0.568587 -0.156138 -0.129684  0.026159\n",
            "1  0.069128 -0.419540 -0.071825  0.618978  0.210070\n",
            "2 -1.382536 -1.318906 -0.848958 -1.419520 -0.066269\n",
            "3  0.595900  1.242591 -1.266568  1.330801  0.496374\n",
            "4 -1.587448 -0.496685  0.454908 -1.104949  0.182656\n"
          ],
          "name": "stdout"
        }
      ]
    },
    {
      "cell_type": "markdown",
      "metadata": {
        "id": "r-eVUaUy7H6H"
      },
      "source": [
        "Its often better to load `DataFrames` from data stored on disk. The pandas library has these functions available for loading data, but what we care about the most is `read_table` and `read_csv`, which allow us to read text files separated by whitespace or commas/newlines.(Not mentioned in this list are built-in csv writing functions for dataframes such as `Dataframe.to_csv`, which are also useful):\n",
        "\n",
        "#### PICKLE\n",
        "`read_pickle(filepath_or_buffer[, …])` Load pickled pandas object (or any object) from file.\n",
        "\n",
        "#### FLAT FILES\n",
        "`read_table(filepath_or_buffer[, sep, …])` Read general delimited file into DataFrame.\n",
        "\n",
        "`read_csv(filepath_or_buffer[, sep, …])` Read a comma-separated values (csv) file into DataFrame.\n",
        "\n",
        "`read_fwf(filepath_or_buffer[, colspecs, …])` Read a table of fixed-width formatted lines into DataFrame.\n",
        "\n",
        "#### CLIPBOARD\n",
        "`read_clipboard([sep])` Read text from clipboard and pass to read_csv.\n",
        "\n",
        "#### EXCEL\n",
        "`read_excel(io[, sheet_name, header, names, …])` Read an Excel file into a pandas DataFrame.\n",
        "\n",
        "`ExcelFile.parse([sheet_name, header, names, …])` Parse specified sheet(s) into a DataFrame.\n",
        "\n",
        "`ExcelWriter(path[, engine])` Class for writing DataFrame objects into excel sheets.\n",
        "\n",
        "#### JSON\n",
        "`read_json([path_or_buf, orient, typ, dtype, …])` Convert a JSON string to pandas object.\n",
        "\n",
        "`json_normalize(data[, record_path, meta, …])` Normalize semi-structured JSON data into a flat table.\n",
        "\n",
        "`build_table_schema(data[, index, …])` Create a Table schema from data.\n",
        "\n",
        "####HTML\n",
        "`read_html(io[, match, flavor, header, …])` Read HTML tables into a list of DataFrame objects.\n",
        "\n",
        "####HDFStore: PyTables (HDF5)\n",
        "`read_hdf(path_or_buf[, key, mode, errors, …])` Read from the store, close it if we opened it.\n",
        "\n",
        "`HDFStore.put(key, value[, format, index, …])` Store object in HDFStore.\n",
        "\n",
        "`HDFStore.append(key, value[, format, axes, …])` Append to Table in file.\n",
        "\n",
        "`HDFStore.get(key)` Retrieve pandas object stored in file.\n",
        "\n",
        "`HDFStore.select(key[, where, start, stop, …])` Retrieve pandas object stored in file, optionally based on where criteria.\n",
        "\n",
        "`HDFStore.info()` Print detailed information on the store.\n",
        "\n",
        "`HDFStore.keys([include])` Return a list of keys corresponding to objects stored in HDFStore.\n",
        "\n",
        "`HDFStore.groups()` Return a list of all the top-level nodes.\n",
        "\n",
        "`HDFStore.walk([where])` Walk the pytables group hierarchy for pandas objects.\n",
        "\n",
        "#### Feather\n",
        "`read_feather(path[, columns, use_threads, …])` Load a feather-format object from the file path.\n",
        "\n",
        "#### Parquet\n",
        "`read_parquet(path[, engine, columns, …])` Load a parquet object from the file path, returning a DataFrame.\n",
        "\n",
        "#### ORC\n",
        "`read_orc(path[, columns])` Load an ORC object from the file path, returning a DataFrame.\n",
        "\n",
        "#### SAS\n",
        "`read_sas(filepath_or_buffer[, format, …])` Read SAS files stored as either XPORT or SAS7BDAT format files.\n",
        "\n",
        "#### SPSS\n",
        "`read_spss(path[, usecols, convert_categoricals])` Load an SPSS file from the file path, returning a DataFrame.\n",
        "\n",
        "#### SQL\n",
        "`read_sql_table(table_name, con[, schema, …])` Read SQL database table into a DataFrame.\n",
        "\n",
        "`read_sql_query(sql, con[, index_col, …])` Read SQL query into a DataFrame.\n",
        "\n",
        "`read_sql(sql, con[, index_col, …])` Read SQL query or database table into a DataFrame.\n",
        "\n",
        "#### Google BigQuery\n",
        "`read_gbq(query[, project_id, index_col, …])` Load data from Google BigQuery.\n",
        "\n",
        "#### STATA\n",
        "`read_stata(filepath_or_buffer[, …])` Read Stata file into DataFrame.\n",
        "\n",
        "`StataReader.data_label` Return data label of Stata file.\n",
        "\n",
        "`StataReader.value_labels()` Return a dict, associating each variable name a dict, associating each value its corresponding label.\n",
        "\n",
        "`StataReader.variable_labels()` Return variable labels as a dict, associating each variable name with corresponding label.\n",
        "\n",
        "`StataWriter.write_file()`\n",
        "\n"
      ]
    },
    {
      "cell_type": "markdown",
      "metadata": {
        "id": "j8wepQ8Mgfoe"
      },
      "source": [
        "We can also save a dataframe correctly using he `to_csv` function. There are also a few other dataframe-level functions for data writing.\n",
        "\n",
        "### `DataFrame` writing functions\n",
        "`DataFrame.to_parquet([path, engine, …])` Write a DataFrame to the binary parquet format.\n",
        "\n",
        "`DataFrame.to_pickle(path[, compression, …])` Pickle (serialize) object to file.\n",
        "\n",
        "`DataFrame.to_csv([path_or_buf, sep, na_rep, …])` Write object to a comma-separated values (csv) file.\n",
        "\n",
        "`DataFrame.to_hdf(path_or_buf, key[, mode, …])` Write the contained data to an HDF5 file using HDFStore.\n",
        "\n",
        "`DataFrame.to_sql(name, con[, schema, …])` Write records stored in a DataFrame to a SQL database.\n",
        "\n",
        "`DataFrame.to_dict([orient, into])` Convert the DataFrame to a dictionary.\n",
        "\n",
        "`DataFrame.to_excel(excel_writer[, …])` Write object to an Excel sheet.\n",
        "\n",
        "`DataFrame.to_json([path_or_buf, orient, …])` Convert the object to a JSON string.\n",
        "\n",
        "`DataFrame.to_html([buf, columns, col_space, …])` Render a DataFrame as an HTML table.\n",
        "\n",
        "`DataFrame.to_feather(path, **kwargs)` Write a DataFrame to the binary Feather format.\n",
        "\n",
        "`DataFrame.to_latex([buf, columns, …])` Render object to a LaTeX tabular, longtable, or nested table/tabular.\n",
        "\n",
        "`DataFrame.to_stata(path[, convert_dates, …])` Export DataFrame object to Stata dta format.\n",
        "\n",
        "`DataFrame.to_gbq(destination_table[, …])` Write a DataFrame to a Google BigQuery table.\n",
        "\n",
        "`DataFrame.to_records([index, column_dtypes, …])` Convert DataFrame to a NumPy record array.\n",
        "\n",
        "`DataFrame.to_string([buf, columns, …])` Render a DataFrame to a console-friendly tabular output.\n",
        "\n",
        "`DataFrame.to_clipboard([excel, sep])` Copy object to the system clipboard.\n",
        "\n",
        "`DataFrame.to_markdown([buf, mode, index, …])` Print DataFrame in Markdown-friendly format.\n"
      ]
    },
    {
      "cell_type": "markdown",
      "metadata": {
        "id": "rbigElVX9VfF"
      },
      "source": [
        "Lets load a dataframe.\n",
        "We will be using data from NBA injuries from 2010 to 2018 (https://www.kaggle.com/ghopkins/nba-injuries-2010-2018)"
      ]
    },
    {
      "cell_type": "code",
      "metadata": {
        "colab": {
          "base_uri": "https://localhost:8080/"
        },
        "id": "q_J_5pS96i3O",
        "outputId": "9ecc459c-2ad0-4518-f123-113c1d7ef2a9"
      },
      "source": [
        "! gdown --output nba_injuries.csv https://drive.google.com/uc?id=1GiDcV4WeLs9rEo-6ZODKbx1c9oQU31aU\n",
        "# This will download the nba injuries csv from google drive."
      ],
      "execution_count": null,
      "outputs": [
        {
          "output_type": "stream",
          "text": [
            "Downloading...\n",
            "From: https://drive.google.com/uc?id=1GiDcV4WeLs9rEo-6ZODKbx1c9oQU31aU\n",
            "To: /content/nba_injuries.csv\n",
            "\r  0% 0.00/1.60M [00:00<?, ?B/s]\r100% 1.60M/1.60M [00:00<00:00, 103MB/s]\n"
          ],
          "name": "stdout"
        }
      ]
    },
    {
      "cell_type": "markdown",
      "metadata": {
        "id": "0OqRzZCPAE-e"
      },
      "source": [
        "Now lets read this csv file and take a look:"
      ]
    },
    {
      "cell_type": "code",
      "metadata": {
        "colab": {
          "base_uri": "https://localhost:8080/"
        },
        "id": "LdwEuIMLAHhO",
        "outputId": "5dd97a77-8b14-4cd1-8ed0-4ce6e9a0634f"
      },
      "source": [
        "nba_df = pd.read_csv('/content/nba_injuries.csv')\n",
        "print(nba_df.columns, nba_df.iloc[:5], sep='\\n')"
      ],
      "execution_count": null,
      "outputs": [
        {
          "output_type": "stream",
          "text": [
            "Index(['Date', 'Team', 'Acquired', 'Relinquished', 'Notes'], dtype='object')\n",
            "         Date     Team Acquired   Relinquished  \\\n",
            "0  2010-10-03    Bulls      NaN  Carlos Boozer   \n",
            "1  2010-10-06  Pistons      NaN  Jonas Jerebko   \n",
            "2  2010-10-06  Pistons      NaN  Terrico White   \n",
            "3  2010-10-08  Blazers      NaN     Jeff Ayres   \n",
            "4  2010-10-08     Nets      NaN    Troy Murphy   \n",
            "\n",
            "                                               Notes  \n",
            "0  fractured bone in right pinky finger (out inde...  \n",
            "1      torn right Achilles tendon (out indefinitely)  \n",
            "2  broken fifth metatarsal in right foot (out ind...  \n",
            "3          torn ACL in right knee (out indefinitely)  \n",
            "4             strained lower back (out indefinitely)  \n"
          ],
          "name": "stdout"
        }
      ]
    },
    {
      "cell_type": "markdown",
      "metadata": {
        "id": "GH4Z9CTHAcF4"
      },
      "source": [
        "# 2. Dataframe Manipulation\n",
        "\n",
        "In this dataframe, we see that the players occur at the 'Acquired' and 'Relinquished' columns:"
      ]
    },
    {
      "cell_type": "code",
      "metadata": {
        "colab": {
          "base_uri": "https://localhost:8080/"
        },
        "id": "IVDf3hsrCfoV",
        "outputId": "54080d8a-0cff-4677-9695-b39e266cab26"
      },
      "source": [
        "print(nba_df[['Acquired', 'Relinquished']].iloc[-10:]) # print last 10 items"
      ],
      "execution_count": null,
      "outputs": [
        {
          "output_type": "stream",
          "text": [
            "           Acquired    Relinquished\n",
            "27095           NaN  Tyson Chandler\n",
            "27096           NaN  Romeo Langford\n",
            "27097           NaN  Romeo Langford\n",
            "27098           NaN    Gabe Vincent\n",
            "27099           NaN     Bam Adebayo\n",
            "27100  Dion Waiters             NaN\n",
            "27101           NaN     Bam Adebayo\n",
            "27102           NaN    Goran Dragic\n",
            "27103   Chris Silva             NaN\n",
            "27104   Bam Adebayo             NaN\n"
          ],
          "name": "stdout"
        }
      ]
    },
    {
      "cell_type": "markdown",
      "metadata": {
        "id": "DN4NyxGvEGBv"
      },
      "source": [
        "Lets show an example of dataframe manipulation. We want to filter any rows `NaNs`, and we know that a single entry will not have both set, so we will do this by setting the `NaNs` to empty strings and adding the columns into a new column:"
      ]
    },
    {
      "cell_type": "code",
      "metadata": {
        "colab": {
          "base_uri": "https://localhost:8080/"
        },
        "id": "4GoPYN6aEGz2",
        "outputId": "412f676d-ec41-4173-a6a4-7dacf6b9c090"
      },
      "source": [
        "nba_df[\"Acquired\"][nba_df['Acquired'].isnull()] = \"\"\n",
        "nba_df[\"Relinquished\"][nba_df['Relinquished'].isnull()] = \"\"\n",
        "nba_df['Name'] = nba_df['Acquired'] + nba_df['Relinquished']\n",
        "nba_df = nba_df[[c for c in nba_df.columns if c not in ['Acquired', 'Relinquished']]]\n",
        "print(nba_df.loc[:5])"
      ],
      "execution_count": null,
      "outputs": [
        {
          "output_type": "stream",
          "text": [
            "         Date     Team                                              Notes  \\\n",
            "0  2010-10-03    Bulls  fractured bone in right pinky finger (out inde...   \n",
            "1  2010-10-06  Pistons      torn right Achilles tendon (out indefinitely)   \n",
            "2  2010-10-06  Pistons  broken fifth metatarsal in right foot (out ind...   \n",
            "3  2010-10-08  Blazers          torn ACL in right knee (out indefinitely)   \n",
            "4  2010-10-08     Nets             strained lower back (out indefinitely)   \n",
            "5  2010-10-08  Pistons       surgery to repair torn right Achilles tendon   \n",
            "\n",
            "            Name  \n",
            "0  Carlos Boozer  \n",
            "1  Jonas Jerebko  \n",
            "2  Terrico White  \n",
            "3     Jeff Ayres  \n",
            "4    Troy Murphy  \n",
            "5  Jonas Jerebko  \n"
          ],
          "name": "stdout"
        }
      ]
    },
    {
      "cell_type": "markdown",
      "metadata": {
        "id": "ZNSN4IqKH8N8"
      },
      "source": [
        "Lets do something different this time. I want to only look at the players with the most entries in this dataset, say top 10. We will first count the occurrences of names by the `.value_counts()` operator that acts on a series, and then we will sort their values and get the top 10 using the `.head()` function:"
      ]
    },
    {
      "cell_type": "code",
      "metadata": {
        "id": "NDUfWjS1COki",
        "colab": {
          "base_uri": "https://localhost:8080/"
        },
        "outputId": "c05e3a85-efa8-4401-a410-a98e1bbe5ea3"
      },
      "source": [
        "top_10_players = nba_df['Name'].value_counts().sort_values(ascending=False).head(10)\n",
        "top_10_players = pd.DataFrame(top_10_players)\n",
        "print(top_10_players['Name'], type(top_10_players), top_10_players.sum(), sep='\\n')"
      ],
      "execution_count": null,
      "outputs": [
        {
          "output_type": "stream",
          "text": [
            "Kevin Love          139\n",
            "Dwyane Wade         132\n",
            "Eric Gordon         127\n",
            " Tony Parker        126\n",
            "Derrick Rose        124\n",
            "Manu Ginobili       124\n",
            "Kawhi Leonard       118\n",
            "Chandler Parsons    115\n",
            "Kyrie Irving        112\n",
            "Nene Hilario        108\n",
            "Name: Name, dtype: int64\n",
            "<class 'pandas.core.frame.DataFrame'>\n",
            "Name    1225\n",
            "dtype: int64\n"
          ],
          "name": "stdout"
        }
      ]
    },
    {
      "cell_type": "markdown",
      "metadata": {
        "id": "3s9y5YOqXBdr"
      },
      "source": [
        "We can also index our original to select only players in this category:"
      ]
    },
    {
      "cell_type": "code",
      "metadata": {
        "colab": {
          "base_uri": "https://localhost:8080/"
        },
        "id": "bGVCy-EMXAkw",
        "outputId": "919d7a9e-003d-4bd1-f637-1bf8bd2fad58"
      },
      "source": [
        "nba_df_top10 = nba_df[nba_df['Name'].isin(top_10_players.index.tolist())]\n",
        "print(nba_df_top10.iloc[:20], len(nba_df_top10), sep='\\n')"
      ],
      "execution_count": null,
      "outputs": [
        {
          "output_type": "stream",
          "text": [
            "            Date      Team                                   Notes  \\\n",
            "165   2010-11-03   Nuggets               strained left groin (DNP)   \n",
            "186   2010-11-05   Nuggets               strained left groin (DNP)   \n",
            "200   2010-11-06   Nuggets               strained left groin (DNP)   \n",
            "228   2010-11-09  Clippers  placed on IL with left shoulder injury   \n",
            "263   2010-11-10  Clippers                       activated from IL   \n",
            "264   2010-11-10  Clippers                sore left shoulder (DNP)   \n",
            "385   2010-11-20      Heat   placed on IL with sprained left wrist   \n",
            "403   2010-11-22      Heat                       activated from IL   \n",
            "445   2010-11-26     Bulls             placed on IL with sore neck   \n",
            "464   2010-11-27     Bulls                       activated from IL   \n",
            "848   2010-12-23      Heat        placed on IL with sore left knee   \n",
            "862   2010-12-25      Heat                       activated from IL   \n",
            "936   2010-12-29   Nuggets                    sore hamstring (DNP)   \n",
            "1280  2011-01-22      Heat                 migraine headache (DNP)   \n",
            "1318  2011-01-25  Clippers              sprained right wrist (DNP)   \n",
            "1326  2011-01-26  Clippers              sprained right wrist (DNP)   \n",
            "1335  2011-01-26   Nuggets   placed on IL with strained right calf   \n",
            "1349  2011-01-28      Heat              sprained right wrist (DNP)   \n",
            "1356  2011-01-28   Nuggets                       activated from IL   \n",
            "1390  2011-01-31  Clippers              sprained right wrist (DNP)   \n",
            "\n",
            "               Name  \n",
            "165   Nene Hilario   \n",
            "186   Nene Hilario   \n",
            "200   Nene Hilario   \n",
            "228     Eric Gordon  \n",
            "263     Eric Gordon  \n",
            "264     Eric Gordon  \n",
            "385     Dwyane Wade  \n",
            "403     Dwyane Wade  \n",
            "445    Derrick Rose  \n",
            "464    Derrick Rose  \n",
            "848     Dwyane Wade  \n",
            "862     Dwyane Wade  \n",
            "936   Nene Hilario   \n",
            "1280    Dwyane Wade  \n",
            "1318    Eric Gordon  \n",
            "1326    Eric Gordon  \n",
            "1335  Nene Hilario   \n",
            "1349    Dwyane Wade  \n",
            "1356  Nene Hilario   \n",
            "1390    Eric Gordon  \n",
            "1225\n"
          ],
          "name": "stdout"
        }
      ]
    },
    {
      "cell_type": "markdown",
      "metadata": {
        "id": "kh1l-RCSJ_AX"
      },
      "source": [
        "The first method we manipulated the dataframe directly by joining two columns, while in the second we extracted the data into a different dataset, which allowed us to manipulate the data. "
      ]
    },
    {
      "cell_type": "markdown",
      "metadata": {
        "id": "zkDoojAwj-IG"
      },
      "source": [
        "This usage highlights manipulation using both `DataFrames` and `Series`. Below is a summary of the manipulation functions available in both objeects. Many of them are the same accoss the two objects, and include common analysis and aggregation functions. "
      ]
    },
    {
      "cell_type": "markdown",
      "metadata": {
        "id": "uFtLZoHAnrGY"
      },
      "source": [
        "### `pandas.Series`\n",
        "\n",
        "`abs()` Return a Series/DataFrame with absolute numeric value of each element.\n",
        "\n",
        "`add(other[, level, fill_value, axis])` Return Addition of series and other, element-wise (binary operator add).\n",
        "\n",
        "`add_prefix(prefix)` Prefix labels with string prefix.\n",
        "\n",
        "`add_suffix(suffix)` Suffix labels with string suffix.\n",
        "\n",
        "`agg([func, axis])` Aggregate using one or more operations over the specified axis.\n",
        "\n",
        "`aggregate([func, axis])` Aggregate using one or more operations over the specified axis.\n",
        "\n",
        "`align(other[, join, axis, level, copy, …])` Align two objects on their axes with the specified join method.\n",
        "\n",
        "`all([axis, bool_only, skipna, level])` Return whether all elements are True, potentially over an axis.\n",
        "\n",
        "`any([axis, bool_only, skipna, level])` Return whether any element is True, potentially over an axis.\n",
        "\n",
        "`append(to_append[, ignore_index, …])` Concatenate two or more Series.\n",
        "\n",
        "`apply(func[, convert_dtype, args])` Invoke function on values of Series.\n",
        "\n",
        "`argmax([axis, skipna])` Return int position of the largest value in the Series.\n",
        "\n",
        "`argmin([axis, skipna])` Return int position of the smallest value in the Series.\n",
        "\n",
        "`argsort([axis, kind, order])` Return the integer indices that would sort the Series values.\n",
        "\n",
        "`asfreq(freq[, method, how, normalize, …])` Convert TimeSeries to specified frequency.\n",
        "\n",
        "`asof(where[, subset])` Return the last row(s) without any NaNs before where.\n",
        "\n",
        "`astype(dtype[, copy, errors])` Cast a pandas object to a specified dtype dtype.\n",
        "\n",
        "`at_time(time[, asof, axis])` Select values at particular time of day (e.g., 9:30AM).\n",
        "\n",
        "`autocorr([lag])` Compute the lag-N autocorrelation.\n",
        "\n",
        "`backfill([axis, inplace, limit, downcast])` Synonym for DataFrame.fillna() with method='bfill'.\n",
        "\n",
        "`between(left, right[, inclusive])` Return boolean Series equivalent to left <= series <= right.\n",
        "\n",
        "`between_time(start_time, end_time[, …])` Select values between particular times of the day (e.g., 9:00-9:30 AM).\n",
        "\n",
        "`bfill([axis, inplace, limit, downcast])` Synonym for DataFrame.fillna() with method='bfill'.\n",
        "\n",
        "`bool()` Return the bool of a single element Series or DataFrame.\n",
        "\n",
        "`cat` alias of pandas.core.arrays.categorical.CategoricalAccessor\n",
        "\n",
        "`clip([lower, upper, axis, inplace])` Trim values at input threshold(s).\n",
        "\n",
        "`combine(other, func[, fill_value])` Combine the Series with a Series or scalar according to func.\n",
        "\n",
        "`combine_first(other)` Combine Series values, choosing the calling Series’s values first.\n",
        "\n",
        "`compare(other[, align_axis, keep_shape, …])` Compare to another Series and show the differences.\n",
        "\n",
        "`convert_dtypes([infer_objects, …])` Convert columns to best possible dtypes using dtypes supporting pd.NA.\n",
        "\n",
        "`copy([deep])` Make a copy of this object’s indices and data.\n",
        "\n",
        "`corr(other[, method, min_periods])` Compute correlation with other Series, excluding missing values.\n",
        "\n",
        "`count([level])` Return number of non-NA/null observations in the Series.\n",
        "\n",
        "`cov(other[, min_periods, ddof])` Compute covariance with Series, excluding missing values.\n",
        "\n",
        "`cummax([axis, skipna])` Return cumulative maximum over a DataFrame or Series axis.\n",
        "\n",
        "`cummin([axis, skipna])` Return cumulative minimum over a DataFrame or Series axis.\n",
        "\n",
        "`cumprod([axis, skipna])` Return cumulative product over a DataFrame or Series axis.\n",
        "\n",
        "`cumsum([axis, skipna])` Return cumulative sum over a DataFrame or Series axis.\n",
        "\n",
        "`describe([percentiles, include, exclude, …])` Generate descriptive statistics.\n",
        "\n",
        "`diff([periods])` First discrete difference of element.\n",
        "\n",
        "`div(other[, level, fill_value, axis])` Return Floating division of series and other, element-wise (binary operator truediv).\n",
        "\n",
        "`divide(other[, level, fill_value, axis])` Return Floating division of series and other, element-wise (binary operator truediv).\n",
        "\n",
        "`divmod(other[, level, fill_value, axis])` Return Integer division and modulo of series and other, element-wise (binary operator divmod).\n",
        "\n",
        "`dot(other)` Compute the dot product between the Series and the columns of other.\n",
        "\n",
        "`drop([labels, axis, index, columns, level, …])` Return Series with specified index labels removed.\n",
        "\n",
        "`drop_duplicates([keep, inplace])` Return Series with duplicate values removed.\n",
        "\n",
        "`droplevel(level[, axis])` Return DataFrame with requested index / column level(s) removed.\n",
        "\n",
        "`dropna([axis, inplace, how])` Return a new Series with missing values removed.\n",
        "\n",
        "`dt` alias of pandas.core.indexes.accessors.CombinedDatetimelikeProperties\n",
        "\n",
        "`duplicated([keep])` Indicate duplicate Series values.\n",
        "\n",
        "`eq(other[, level, fill_value, axis])` Return Equal to of series and other, element-wise (binary operator eq).\n",
        "\n",
        "`equals(other)` Test whether two objects contain the same elements.\n",
        "\n",
        "`ewm([com, span, halflife, alpha, …])` Provide exponential weighted (EW) functions.\n",
        "\n",
        "`expanding([min_periods, center, axis])` Provide expanding transformations.\n",
        "\n",
        "`explode([ignore_index])` Transform each element of a list-like to a row.\n",
        "\n",
        "`factorize([sort, na_sentinel])` Encode the object as an enumerated type or categorical variable.\n",
        "\n",
        "`ffill([axis, inplace, limit, downcast])` Synonym for DataFrame.fillna() with method='ffill'.\n",
        "\n",
        "`fillna([value, method, axis, inplace, …])` Fill NA/NaN values using the specified method.\n",
        "\n",
        "`filter([items, like, regex, axis])` Subset the dataframe rows or columns according to the specified index labels.\n",
        "\n",
        "`first(offset)` Select initial periods of time series data based on a date offset.\n",
        "\n",
        "`first_valid_index()` Return index for first non-NA/null value.\n",
        "\n",
        "`floordiv(other[, level, fill_value, axis])` Return Integer division of series and other, element-wise (binary operator floordiv).\n",
        "\n",
        "`ge(other[, level, fill_value, axis])` Return Greater than or equal to of series and other, element-wise (binary operator ge).\n",
        "\n",
        "`get(key[, default])` Get item from object for given key (ex: DataFrame column).\n",
        "\n",
        "`groupby([by, axis, level, as_index, sort, …])` Group Series using a mapper or by a Series of columns.\n",
        "\n",
        "`gt(other[, level, fill_value, axis])` Return Greater than of series and other, element-wise (binary operator gt).\n",
        "\n",
        "`head([n])` Return the first n rows.\n",
        "\n",
        "`hist([by, ax, grid, xlabelsize, xrot, …])` Draw histogram of the input series using matplotlib.\n",
        "\n",
        "`idxmax([axis, skipna])` Return the row label of the maximum value.\n",
        "\n",
        "`idxmin([axis, skipna])` Return the row label of the minimum value.\n",
        "\n",
        "`infer_objects()` Attempt to infer better dtypes for object columns.\n",
        "\n",
        "`interpolate([method, axis, limit, inplace, …])` Fill NaN values using an interpolation method.\n",
        "\n",
        "`isin(values)` Whether elements in Series are contained in values.\n",
        "\n",
        "`isna()` Detect missing values.\n",
        "\n",
        "`isnull()` Detect missing values.\n",
        "\n",
        "`item()` Return the first element of the underlying data as a Python scalar.\n",
        "\n",
        "`items()` Lazily iterate over (index, value) tuples.\n",
        "\n",
        "`iteritems()` Lazily iterate over (index, value) tuples.\n",
        "\n",
        "`keys()` Return alias for index.\n",
        "\n",
        "`kurt([axis, skipna, level, numeric_only])` Return unbiased kurtosis over requested axis.\n",
        "\n",
        "`kurtosis([axis, skipna, level, numeric_only])` Return unbiased kurtosis over requested axis.\n",
        "\n",
        "`last(offset)` Select final periods of time series data based on a date offset.\n",
        "\n",
        "`last_valid_index()` Return index for last non-NA/null value.\n",
        "\n",
        "`le(other[, level, fill_value, axis])` Return Less than or equal to of series and other, element-wise (binary operator le).\n",
        "\n",
        "`lt(other[, level, fill_value, axis])` Return Less than of series and other, element-wise (binary operator lt).\n",
        "\n",
        "`mad([axis, skipna, level])` Return the mean absolute deviation of the values over the requested axis.\n",
        "\n",
        "`map(arg[, na_action])` Map values of Series according to input correspondence.\n",
        "\n",
        "`mask(cond[, other, inplace, axis, level, …])` Replace values where the condition is True.\n",
        "\n",
        "`max([axis, skipna, level, numeric_only])` Return the maximum of the values over the requested axis.\n",
        "\n",
        "`mean([axis, skipna, level, numeric_only])` Return the mean of the values over the requested axis.\n",
        "\n",
        "`median([axis, skipna, level, numeric_only])` Return the median of the values over the requested axis.\n",
        "\n",
        "`memory_usage([index, deep])` Return the memory usage of the Series.\n",
        "\n",
        "`min([axis, skipna, level, numeric_only])` Return the minimum of the values over the requested axis.\n",
        "\n",
        "`mod(other[, level, fill_value, axis])` Return Modulo of series and other, element-wise (binary operator mod).\n",
        "\n",
        "`mode([dropna])` Return the mode(s) of the Series.\n",
        "\n",
        "`mul(other[, level, fill_value, axis])` Return Multiplication of series and other, element-wise (binary operator mul).\n",
        "\n",
        "`multiply(other[, level, fill_value, axis])` Return Multiplication of series and other, element-wise (binary operator mul).\n",
        "\n",
        "`ne(other[, level, fill_value, axis])` Return Not equal to of series and other, element-wise (binary operator ne).\n",
        "\n",
        "`nlargest([n, keep])` Return the largest n elements.\n",
        "\n",
        "`notna()` Detect existing (non-missing) values.\n",
        "\n",
        "`notnull()` Detect existing (non-missing) values.\n",
        "\n",
        "`nsmallest([n, keep])` Return the smallest n elements.\n",
        "\n",
        "`nunique([dropna])` Return number of unique elements in the object.\n",
        "\n",
        "`pad([axis, inplace, limit, downcast])` Synonym for DataFrame.fillna() with method='ffill'.\n",
        "\n",
        "`pct_change([periods, fill_method, limit, freq])` Percentage change between the current and a prior element.\n",
        "\n",
        "`pipe(func, *args, **kwargs)` Apply func(self, *args, **kwargs).\n",
        "\n",
        "`plot` alias of pandas.plotting._core.PlotAccessor\n",
        "\n",
        "`pop(item)` Return item and drops from series.\n",
        "\n",
        "`pow(other[, level, fill_value, axis])` Return Exponential power of series and other, element-wise (binary operator pow).\n",
        "\n",
        "`prod([axis, skipna, level, numeric_only, …])` Return the product of the values over the requested axis.\n",
        "\n",
        "`product([axis, skipna, level, numeric_only, …])` Return the product of the values over the requested axis.\n",
        "\n",
        "`quantile([q, interpolation])` Return value at the given quantile.\n",
        "\n",
        "`radd(other[, level, fill_value, axis])` Return Addition of series and other, element-wise (binary operator radd).\n",
        "\n",
        "`rank([axis, method, numeric_only, …])` Compute numerical data ranks (1 through n) along axis.\n",
        "\n",
        "`ravel([order])` Return the flattened underlying data as an ndarray.\n",
        "\n",
        "`rdiv(other[, level, fill_value, axis])` Return Floating division of series and other, element-wise (binary operator rtruediv).\n",
        "\n",
        "`rdivmod(other[, level, fill_value, axis])` Return Integer division and modulo of series and other, element-wise (binary operator rdivmod).\n",
        "\n",
        "`reindex([index])` Conform Series to new index with optional filling logic.\n",
        "\n",
        "`reindex_like(other[, method, copy, limit, …])` Return an object with matching indices as other object.\n",
        "\n",
        "`rename([index, axis, copy, inplace, level, …])` Alter Series index labels or name.\n",
        "\n",
        "`rename_axis([mapper, index, columns, axis, …])` Set the name of the axis for the index or columns.\n",
        "\n",
        "`reorder_levels(order)` Rearrange index levels using input order.\n",
        "\n",
        "`repeat(repeats[, axis])` Repeat elements of a Series.\n",
        "\n",
        "`replace([to_replace, value, inplace, limit, …])` Replace values given in to_replace with value.\n",
        "\n",
        "`resample(rule[, axis, closed, label, …])` Resample time-series data.\n",
        "\n",
        "`reset_index([level, drop, name, inplace])` Generate a new DataFrame or Series with the index reset.\n",
        "\n",
        "`rfloordiv(other[, level, fill_value, axis])` Return Integer division of series and other, element-wise (binary operator rfloordiv).\n",
        "\n",
        "`rmod(other[, level, fill_value, axis])` Return Modulo of series and other, element-wise (binary operator rmod).\n",
        "\n",
        "`rmul(other[, level, fill_value, axis])` Return Multiplication of series and other, element-wise (binary operator rmul).\n",
        "\n",
        "`rolling(window[, min_periods, center, …])` Provide rolling window calculations.\n",
        "\n",
        "`round([decimals])` Round each value in a Series to the given number of decimals.\n",
        "\n",
        "`rpow(other[, level, fill_value, axis])` Return Exponential power of series and other, element-wise (binary operator rpow).\n",
        "\n",
        "`rsub(other[, level, fill_value, axis])` Return Subtraction of series and other, element-wise (binary operator rsub).\n",
        "\n",
        "`rtruediv(other[, level, fill_value, axis])` Return Floating division of series and other, element-wise (binary operator rtruediv).\n",
        "\n",
        "`sample([n, frac, replace, weights, …])` Return a random sample of items from an axis of object.\n",
        "\n",
        "`searchsorted(value[, side, sorter])` Find indices where elements should be inserted to maintain order.\n",
        "\n",
        "`sem([axis, skipna, level, ddof, numeric_only])` Return unbiased standard error of the mean over requested axis.\n",
        "\n",
        "`set_axis(labels[, axis, inplace])` Assign desired index to given axis.\n",
        "\n",
        "`set_flags(*[, copy, allows_duplicate_labels])` Return a new object with updated flags.\n",
        "\n",
        "`shift([periods, freq, axis, fill_value])` Shift index by desired number of periods with an optional time freq.\n",
        "\n",
        "`skew([axis, skipna, level, numeric_only])` Return unbiased skew over requested axis.\n",
        "\n",
        "`slice_shift([periods, axis])` (DEPRECATED) Equivalent to shift without copying data.\n",
        "\n",
        "`sort_index([axis, level, ascending, …])` Sort Series by index labels.\n",
        "\n",
        "`sort_values([axis, ascending, inplace, …])` Sort by the values.\n",
        "\n",
        "`sparse` alias of pandas.core.arrays.sparse.accessor.SparseAccessor\n",
        "\n",
        "`squeeze([axis])` Squeeze 1 dimensional axis objects into scalars.\n",
        "\n",
        "`std([axis, skipna, level, ddof, numeric_only])` Return sample standard deviation over requested axis.\n",
        "\n",
        "`str`alias of pandas.core.strings.accessor.StringMethods\n",
        "\n",
        "`sub(other[, level, fill_value, axis])` Return Subtraction of series and other, element-wise (binary operator sub).\n",
        "\n",
        "`subtract(other[, level, fill_value, axis])` Return Subtraction of series and other, element-wise (binary operator sub).\n",
        "\n",
        "`sum([axis, skipna, level, numeric_only, …])` Return the sum of the values over the requested axis.\n",
        "\n",
        "`swapaxes(axis1, axis2[, copy])` Interchange axes and swap values axes appropriately.\n",
        "\n",
        "`swaplevel([i, j, copy])` Swap levels i and j in a MultiIndex.\n",
        "\n",
        "`tail([n])` Return the last n rows.\n",
        "\n",
        "`take(indices[, axis, is_copy])` Return the elements in the given positional indices along an axis.\n",
        "\n",
        "`to_clipboard([excel, sep])` Copy object to the system clipboard.\n",
        "\n",
        "`to_csv([path_or_buf, sep, na_rep, …])` Write object to a comma-separated values (csv) file.\n",
        "\n",
        "`to_dict([into])` Convert Series to {label -> value} dict or dict-like object.\n",
        "\n",
        "`to_excel(excel_writer[, sheet_name, na_rep, …])` Write object to an Excel sheet.\n",
        "\n",
        "`to_frame([name])` Convert Series to DataFrame.\n",
        "\n",
        "`to_hdf(path_or_buf, key[, mode, complevel, …])` Write the contained data to an HDF5 file using HDFStore.\n",
        "\n",
        "`to_json([path_or_buf, orient, date_format, …])` Convert the object to a JSON string.\n",
        "\n",
        "`to_latex([buf, columns, col_space, header, …])` Render object to a LaTeX tabular, longtable, or nested table/tabular.\n",
        "\n",
        "`to_list()` Return a list of the values.\n",
        "\n",
        "`to_markdown([buf, mode, index, storage_options])` Print Series in Markdown-friendly format.\n",
        "\n",
        "`to_numpy([dtype, copy, na_value])` A NumPy ndarray representing the values in this Series or Index.\n",
        "\n",
        "`to_period([freq, copy])` Convert Series from DatetimeIndex to PeriodIndex.\n",
        "\n",
        "`to_pickle(path[, compression, protocol, …])` Pickle (serialize) object to file.\n",
        "\n",
        "`to_sql(name, con[, schema, if_exists, …])` Write records stored in a DataFrame to a SQL database.\n",
        "\n",
        "`to_string([buf, na_rep, float_format, …])` Render a string representation of the Series.\n",
        "\n",
        "`to_timestamp([freq, how, copy])` Cast to DatetimeIndex of Timestamps, at beginning of period.\n",
        "\n",
        "`to_xarray()` Return an xarray object from the pandas object.\n",
        "\n",
        "`tolist()` Return a list of the values.\n",
        "\n",
        "`transform(func[, axis])` Call func on self producing a Series with transformed values.\n",
        "\n",
        "`transpose(*args, **kwargs)` Return the transpose, which is by definition self.\n",
        "\n",
        "`truediv(other[, level, fill_value, axis])` Return Floating division of series and other, element-wise (binary operator truediv).\n",
        "\n",
        "`truncate([before, after, axis, copy])` Truncate a Series or DataFrame before and after some index value.\n",
        "\n",
        "`tshift([periods, freq, axis])` (DEPRECATED) Shift the time index, using the index’s frequency if available.\n",
        "\n",
        "`tz_convert(tz[, axis, level, copy])` Convert tz-aware axis to target time zone.\n",
        "\n",
        "`tz_localize(tz[, axis, level, copy, …])` Localize tz-naive index of a Series or DataFrame to target time zone.\n",
        "\n",
        "`unique()` Return unique values of Series object.\n",
        "\n",
        "`unstack([level, fill_value])` Unstack, also known as pivot, Series with MultiIndex to produce DataFrame.\n",
        "\n",
        "`update(other)` Modify Series in place using values from passed Series.\n",
        "\n",
        "`value_counts([normalize, sort, ascending, …])` Return a Series containing counts of unique values.\n",
        "\n",
        "`var([axis, skipna, level, ddof, numeric_only])` Return unbiased variance over requested axis.\n",
        "\n",
        "`view([dtype])` Create a new view of the Series.\n",
        "\n",
        "`where(cond[, other, inplace, axis, level, …])` Replace values where the condition is False.\n",
        "\n",
        "`xs(key[, axis, level, drop_level])` Return cross-section from the Series/DataFrame.\n"
      ]
    },
    {
      "cell_type": "markdown",
      "metadata": {
        "id": "UQCBuoAhnLvp"
      },
      "source": [
        "### `pandas.DataFrame`\n",
        "\n",
        "`abs()` Return a Series/DataFrame with absolute numeric value of each element.\n",
        "\n",
        "`add(other[, axis, level, fill_value])` Get Addition of dataframe and other, element-wise (binary operator add).\n",
        "\n",
        "`add_prefix(prefix)` Prefix labels with string prefix.\n",
        "\n",
        "`add_suffix(suffix)` Suffix labels with string suffix.\n",
        "\n",
        "`agg([func, axis])` Aggregate using one or more operations over the specified axis.\n",
        "\n",
        "`aggregate([func, axis])` Aggregate using one or more operations over the specified axis.\n",
        "\n",
        "`align(other[, join, axis, level, copy, …])` Align two objects on their axes with the specified join method.\n",
        "\n",
        "`all([axis, bool_only, skipna, level])` Return whether all elements are True, potentially over an axis.\n",
        "\n",
        "`any([axis, bool_only, skipna, level])` Return whether any element is True, potentially over an axis.\n",
        "\n",
        "`append(other[, ignore_index, …])` Append rows of other to the end of caller, returning a new object.\n",
        "\n",
        "`apply(func[, axis, raw, result_type, args])` Apply a function along an axis of the DataFrame.\n",
        "\n",
        "`applymap(func[, na_action])` Apply a function to a Dataframe elementwise.\n",
        "\n",
        "`asfreq(freq[, method, how, normalize, …])` Convert TimeSeries to specified frequency.\n",
        "\n",
        "`asof(where[, subset])` Return the last row(s)` without any NaNs before where.\n",
        "\n",
        "`assign(**kwargs)` Assign new columns to a DataFrame.\n",
        "\n",
        "`astype(dtype[, copy, errors])` Cast a pandas object to a specified dtype dtype.\n",
        "\n",
        "`at_time(time[, asof, axis])` Select values at particular time of day (e.g., 9:30AM).\n",
        "\n",
        "`backfill([axis, inplace, limit, downcast])` Synonym for DataFrame.fillna()` with method='bfill'.\n",
        "\n",
        "`between_time(start_time, end_time[, …])` Select values between particular times of the day (e.g., 9:00-9:30 AM).\n",
        "\n",
        "`bfill([axis, inplace, limit, downcast])` Synonym for DataFrame.fillna()` with method='bfill'.\n",
        "\n",
        "`bool()` Return the bool of a single element Series or DataFrame.\n",
        "\n",
        "`boxplot([column, by, ax, fontsize, rot, …])` Make a box plot from DataFrame columns.\n",
        "\n",
        "`clip([lower, upper, axis, inplace])` Trim values at input threshold(s).\n",
        "\n",
        "`combine(other, func[, fill_value, overwrite])` Perform column-wise combine with another DataFrame.\n",
        "\n",
        "`combine_first(other)` Update null elements with value in the same location in other.\n",
        "\n",
        "`compare(other[, align_axis, keep_shape, …])` Compare to another DataFrame and show the differences.\n",
        "\n",
        "`convert_dtypes([infer_objects, …])` Convert columns to best possible dtypes using dtypes supporting pd.NA.\n",
        "\n",
        "`copy([deep])` Make a copy of this object’s indices and data.\n",
        "\n",
        "`corr([method, min_periods])` Compute pairwise correlation of columns, excluding NA/null values.\n",
        "\n",
        "`corrwith(other[, axis, drop, method])` Compute pairwise correlation.\n",
        "\n",
        "`count([axis, level, numeric_only])` Count non-NA cells for each column or row.\n",
        "\n",
        "`cov([min_periods, ddof])` Compute pairwise covariance of columns, excluding NA/null values.\n",
        "\n",
        "`cummax([axis, skipna])` Return cumulative maximum over a DataFrame or Series axis.\n",
        "\n",
        "`cummin([axis, skipna])` Return cumulative minimum over a DataFrame or Series axis.\n",
        "\n",
        "`cumprod([axis, skipna])` Return cumulative product over a DataFrame or Series axis.\n",
        "\n",
        "`cumsum([axis, skipna])` Return cumulative sum over a DataFrame or Series axis.\n",
        "\n",
        "`describe([percentiles, include, exclude, …])` Generate descriptive statistics.\n",
        "\n",
        "`diff([periods, axis])` First discrete difference of element.\n",
        "\n",
        "`div(other[, axis, level, fill_value])` Get Floating division of dataframe and other, element-wise (binary operator truediv).\n",
        "\n",
        "`divide(other[, axis, level, fill_value])` Get Floating division of dataframe and other, element-wise (binary operator truediv).\n",
        "\n",
        "`dot(other)` Compute the matrix multiplication between the DataFrame and other.\n",
        "\n",
        "`drop([labels, axis, index, columns, level, …])` Drop specified labels from rows or columns.\n",
        "\n",
        "`drop_duplicates([subset, keep, inplace, …])` Return DataFrame with duplicate rows removed.\n",
        "\n",
        "`droplevel(level[, axis])` Return DataFrame with requested index / column level(s)` removed.\n",
        "\n",
        "`dropna([axis, how, thresh, subset, inplace])` Remove missing values.\n",
        "\n",
        "`duplicated([subset, keep])` Return boolean Series denoting duplicate rows.\n",
        "\n",
        "`eq(other[, axis, level])` Get Equal to of dataframe and other, element-wise (binary operator eq).\n",
        "\n",
        "`equals(other)` Test whether two objects contain the same elements.\n",
        "\n",
        "`eval(expr[, inplace])` Evaluate a string describing operations on DataFrame columns.\n",
        "\n",
        "`ewm([com, span, halflife, alpha, …])` Provide exponential weighted (EW)` functions.\n",
        "\n",
        "`expanding([min_periods, center, axis])` Provide expanding transformations.\n",
        "\n",
        "`explode(column[, ignore_index])` Transform each element of a list-like to a row, replicating index values.\n",
        "\n",
        "`ffill([axis, inplace, limit, downcast])` Synonym for DataFrame.fillna()` with method='ffill'.\n",
        "\n",
        "`fillna([value, method, axis, inplace, …])` Fill NA/NaN values using the specified method.\n",
        "\n",
        "`filter([items, like, regex, axis])` Subset the dataframe rows or columns according to the specified index labels.\n",
        "\n",
        "`first(offset)` Select initial periods of time series data based on a date offset.\n",
        "\n",
        "`first_valid_index()` Return index for first non-NA/null value.\n",
        "\n",
        "`floordiv(other[, axis, level, fill_value])` Get Integer division of dataframe and other, element-wise (binary operator floordiv).\n",
        "\n",
        "`from_dict(data[, orient, dtype, columns])` Construct DataFrame from dict of array-like or dicts.\n",
        "\n",
        "`from_records(data[, index, exclude, …])` Convert structured or record ndarray to DataFrame.\n",
        "\n",
        "`ge(other[, axis, level])` Get Greater than or equal to of dataframe and other, element-wise (binary operator ge).\n",
        "\n",
        "`get(key[, default])` Get item from object for given key (ex: DataFrame column).\n",
        "\n",
        "`groupby([by, axis, level, as_index, sort, …])` Group DataFrame using a mapper or by a Series of columns.\n",
        "\n",
        "`gt(other[, axis, level])` Get Greater than of dataframe and other, element-wise (binary operator gt).\n",
        "\n",
        "`head([n])` Return the first n rows.\n",
        "\n",
        "`hist([column, by, grid, xlabelsize, xrot, …])` Make a histogram of the DataFrame’s.\n",
        "\n",
        "`idxmax([axis, skipna])` Return index of first occurrence of maximum over requested axis.\n",
        "\n",
        "`idxmin([axis, skipna])` Return index of first occurrence of minimum over requested axis.\n",
        "\n",
        "`infer_objects()` Attempt to infer better dtypes for object columns.\n",
        "\n",
        "`info([verbose, buf, max_cols, memory_usage, …])` Print a concise summary of a DataFrame.\n",
        "\n",
        "`insert(loc, column, value[, allow_duplicates])` Insert column into DataFrame at specified location.\n",
        "\n",
        "`interpolate([method, axis, limit, inplace, …])` Fill NaN values using an interpolation method.\n",
        "\n",
        "`isin(values)` Whether each element in the DataFrame is contained in values.\n",
        "\n",
        "`isna()` Detect missing values.\n",
        "\n",
        "`isnull()` Detect missing values.\n",
        "\n",
        "`items()` Iterate over (column name, Series)` pairs.\n",
        "\n",
        "`iteritems()` Iterate over (column name, Series)` pairs.\n",
        "\n",
        "`iterrows()` Iterate over DataFrame rows as (index, Series)` pairs.\n",
        "\n",
        "`itertuples([index, name])` Iterate over DataFrame rows as namedtuples.\n",
        "\n",
        "`join(other[, on, how, lsuffix, rsuffix, sort])` Join columns of another DataFrame.\n",
        "\n",
        "`keys()` Get the ‘info axis’ (see Indexing for more).\n",
        "\n",
        "`kurt([axis, skipna, level, numeric_only])` Return unbiased kurtosis over requested axis.\n",
        "\n",
        "`kurtosis([axis, skipna, level, numeric_only])` Return unbiased kurtosis over requested axis.\n",
        "\n",
        "`last(offset)` Select final periods of time series data based on a date offset.\n",
        "\n",
        "`last_valid_index()` Return index for last non-NA/null value.\n",
        "\n",
        "`le(other[, axis, level])` Get Less than or equal to of dataframe and other, element-wise (binary operator le).\n",
        "\n",
        "`lookup(row_labels, col_labels)` (DEPRECATED)` Label-based “fancy indexing” function for DataFrame.\n",
        "\n",
        "`lt(other[, axis, level])` Get Less than of dataframe and other, element-wise (binary operator lt).\n",
        "\n",
        "`mad([axis, skipna, level])` Return the mean absolute deviation of the values over the requested axis.\n",
        "\n",
        "`mask(cond[, other, inplace, axis, level, …])` Replace values where the condition is True.\n",
        "\n",
        "`max([axis, skipna, level, numeric_only])` Return the maximum of the values over the requested axis.\n",
        "\n",
        "`mean([axis, skipna, level, numeric_only])` Return the mean of the values over the requested axis.\n",
        "\n",
        "`median([axis, skipna, level, numeric_only])` Return the median of the values over the requested axis.\n",
        "\n",
        "`melt([id_vars, value_vars, var_name, …])` Unpivot a DataFrame from wide to long format, optionally leaving identifiers set.\n",
        "\n",
        "`memory_usage([index, deep])` Return the memory usage of each column in bytes.\n",
        "\n",
        "`merge(right[, how, on, left_on, right_on, …])` Merge DataFrame or named Series objects with a database-style join.\n",
        "\n",
        "`min([axis, skipna, level, numeric_only])` Return the minimum of the values over the requested axis.\n",
        "\n",
        "`mod(other[, axis, level, fill_value])` Get Modulo of dataframe and other, element-wise (binary operator mod).\n",
        "\n",
        "`mode([axis, numeric_only, dropna])` Get the mode(s)` of each element along the selected axis.\n",
        "\n",
        "`mul(other[, axis, level, fill_value])` Get Multiplication of dataframe and other, element-wise (binary operator mul).\n",
        "\n",
        "`multiply(other[, axis, level, fill_value])` Get Multiplication of dataframe and other, element-wise (binary operator mul).\n",
        "\n",
        "`ne(other[, axis, level])` Get Not equal to of dataframe and other, element-wise (binary operator ne).\n",
        "\n",
        "`nlargest(n, columns[, keep])` Return the first n rows ordered by columns in descending order.\n",
        "\n",
        "`notna()` Detect existing (non-missing)` values.\n",
        "\n",
        "`notnull()` Detect existing (non-missing)` values.\n",
        "\n",
        "`nsmallest(n, columns[, keep])` Return the first n rows ordered by columns in ascending order.\n",
        "\n",
        "`nunique([axis, dropna])` Count distinct observations over requested axis.\n",
        "\n",
        "`pad([axis, inplace, limit, downcast])` Synonym for DataFrame.fillna()` with method='ffill'.\n",
        "\n",
        "`pct_change([periods, fill_method, limit, freq])` Percentage change between the current and a prior element.\n",
        "\n",
        "`pipe(func, *args, **kwargs)` Apply func(self, *args, **kwargs).\n",
        "\n",
        "`pivot([index, columns, values])` Return reshaped DataFrame organized by given index / column values.\n",
        "\n",
        "`pivot_table([values, index, columns, …])` Create a spreadsheet-style pivot table as a DataFrame.\n",
        "\n",
        "`plot` alias of pandas.plotting._core.PlotAccessor\n",
        "\n",
        "`pop(item)` Return item and drop from frame.\n",
        "\n",
        "`pow(other[, axis, level, fill_value])` Get Exponential power of dataframe and other, element-wise (binary operator pow).\n",
        "\n",
        "`prod([axis, skipna, level, numeric_only, …])` Return the product of the values over the requested axis.\n",
        "\n",
        "`product([axis, skipna, level, numeric_only, …])` Return the product of the values over the requested axis.\n",
        "\n",
        "`quantile([q, axis, numeric_only, interpolation])` Return values at the given quantile over requested axis.\n",
        "\n",
        "`query(expr[, inplace])` Query the columns of a DataFrame with a boolean expression.\n",
        "\n",
        "`radd(other[, axis, level, fill_value])` Get Addition of dataframe and other, element-wise (binary operator radd).\n",
        "\n",
        "`rank([axis, method, numeric_only, …])` Compute numerical data ranks (1 through n)` along axis.\n",
        "\n",
        "`rdiv(other[, axis, level, fill_value])` Get Floating division of dataframe and other, element-wise (binary operator rtruediv).\n",
        "\n",
        "`reindex([labels, index, columns, axis, …])` Conform Series/DataFrame to new index with optional filling logic.\n",
        "\n",
        "`reindex_like(other[, method, copy, limit, …])` Return an object with matching indices as other object.\n",
        "\n",
        "`rename([mapper, index, columns, axis, copy, …])` Alter axes labels.\n",
        "\n",
        "`rename_axis([mapper, index, columns, axis, …])` Set the name of the axis for the index or columns.\n",
        "\n",
        "`reorder_levels(order[, axis])` Rearrange index levels using input order.\n",
        "\n",
        "`replace([to_replace, value, inplace, limit, …])` Replace values given in to_replace with value.\n",
        "\n",
        "`resample(rule[, axis, closed, label, …])` Resample time-series data.\n",
        "\n",
        "`reset_index([level, drop, inplace, …])` Reset the index, or a level of it.\n",
        "\n",
        "`rfloordiv(other[, axis, level, fill_value])` Get Integer division of dataframe and other, element-wise (binary operator rfloordiv).\n",
        "\n",
        "`rmod(other[, axis, level, fill_value])` Get Modulo of dataframe and other, element-wise (binary operator rmod).\n",
        "\n",
        "`rmul(other[, axis, level, fill_value])` Get Multiplication of dataframe and other, element-wise (binary operator rmul).\n",
        "\n",
        "`rolling(window[, min_periods, center, …])` Provide rolling window calculations.\n",
        "\n",
        "`round([decimals])` Round a DataFrame to a variable number of decimal places.\n",
        "\n",
        "`rpow(other[, axis, level, fill_value])` Get Exponential power of dataframe and other, element-wise (binary operator rpow).\n",
        "\n",
        "`rsub(other[, axis, level, fill_value])` Get Subtraction of dataframe and other, element-wise (binary operator rsub).\n",
        "\n",
        "`rtruediv(other[, axis, level, fill_value])` Get Floating division of dataframe and other, element-wise (binary operator rtruediv).\n",
        "\n",
        "`sample([n, frac, replace, weights, …])` Return a random sample of items from an axis of object.\n",
        "\n",
        "`select_dtypes([include, exclude])` Return a subset of the DataFrame’s columns based on the column dtypes.\n",
        "\n",
        "`sem([axis, skipna, level, ddof, numeric_only])` Return unbiased standard error of the mean over requested axis.\n",
        "\n",
        "`set_axis(labels[, axis, inplace])` Assign desired index to given axis.\n",
        "\n",
        "`set_flags(*[, copy, allows_duplicate_labels])` Return a new object with updated flags.\n",
        "\n",
        "`set_index(keys[, drop, append, inplace, …])` Set the DataFrame index using existing columns.\n",
        "\n",
        "`shift([periods, freq, axis, fill_value])` Shift index by desired number of periods with an optional time freq.\n",
        "\n",
        "`skew([axis, skipna, level, numeric_only])` Return unbiased skew over requested axis.\n",
        "\n",
        "`slice_shift([periods, axis])` (DEPRECATED)` Equivalent to shift without copying data.\n",
        "\n",
        "`sort_index([axis, level, ascending, …])` Sort object by labels (along an axis).\n",
        "\n",
        "`sort_values(by[, axis, ascending, inplace, …])` Sort by the values along either axis.\n",
        "\n",
        "`sparse` alias of pandas.core.arrays.sparse.accessor.SparseFrameAccessor\n",
        "\n",
        "`squeeze([axis])` Squeeze 1 dimensional axis objects into scalars.\n",
        "\n",
        "`stack([level, dropna])` Stack the prescribed level(s)` from columns to index.\n",
        "\n",
        "`std([axis, skipna, level, ddof, numeric_only])` Return sample standard deviation over requested axis.\n",
        "\n",
        "`sub(other[, axis, level, fill_value])` Get Subtraction of dataframe and other, element-wise (binary operator sub).\n",
        "\n",
        "`subtract(other[, axis, level, fill_value])` Get Subtraction of dataframe and other, element-wise (binary operator sub).\n",
        "\n",
        "`sum([axis, skipna, level, numeric_only, …])` Return the sum of the values over the requested axis.\n",
        "\n",
        "`swapaxes(axis1, axis2[, copy])` Interchange axes and swap values axes appropriately.\n",
        "\n",
        "`swaplevel([i, j, axis])` Swap levels i and j in a MultiIndex on a particular axis.\n",
        "\n",
        "`tail([n])` Return the last n rows.\n",
        "\n",
        "`take(indices[, axis, is_copy])` Return the elements in the given positional indices along an axis.\n",
        "\n",
        "`to_clipboard([excel, sep])` Copy object to the system clipboard.\n",
        "\n",
        "`to_csv([path_or_buf, sep, na_rep, …])` Write object to a comma-separated values (csv)` file.\n",
        "\n",
        "`to_dict([orient, into])` Convert the DataFrame to a dictionary.\n",
        "\n",
        "`to_excel(excel_writer[, sheet_name, na_rep, …])` Write object to an Excel sheet.\n",
        "\n",
        "`to_feather(path, **kwargs)` Write a DataFrame to the binary Feather format.\n",
        "\n",
        "`to_gbq(destination_table[, project_id, …])` Write a DataFrame to a Google BigQuery table.\n",
        "\n",
        "`to_hdf(path_or_buf, key[, mode, complevel, …])` Write the contained data to an HDF5 file using HDFStore.\n",
        "\n",
        "`to_html([buf, columns, col_space, header, …])` Render a DataFrame as an HTML table.\n",
        "\n",
        "`to_json([path_or_buf, orient, date_format, …])` Convert the object to a JSON string.\n",
        "\n",
        "`to_latex([buf, columns, col_space, header, …])` Render object to a LaTeX tabular, longtable, or nested table/tabular.\n",
        "\n",
        "`to_markdown([buf, mode, index, storage_options])` Print DataFrame in Markdown-friendly format.\n",
        "\n",
        "`to_numpy([dtype, copy, na_value])` Convert the DataFrame to a NumPy array.\n",
        "\n",
        "`to_parquet([path, engine, compression, …])` Write a DataFrame to the binary parquet format.\n",
        "\n",
        "`to_period([freq, axis, copy])` Convert DataFrame from DatetimeIndex to PeriodIndex.\n",
        "\n",
        "`to_pickle(path[, compression, protocol, …])` Pickle (serialize)` object to file.\n",
        "\n",
        "`to_records([index, column_dtypes, index_dtypes])` Convert DataFrame to a NumPy record array.\n",
        "\n",
        "`to_sql(name, con[, schema, if_exists, …])` Write records stored in a DataFrame to a SQL database.\n",
        "\n",
        "`to_stata(path[, convert_dates, write_index, …])` Export DataFrame object to Stata dta format.\n",
        "\n",
        "`to_string([buf, columns, col_space, header, …])` Render a DataFrame to a console-friendly tabular output.\n",
        "\n",
        "`to_timestamp([freq, how, axis, copy])` Cast to DatetimeIndex of timestamps, at beginning of period.\n",
        "\n",
        "`to_xarray()` Return an xarray object from the pandas object.\n",
        "\n",
        "`transform(func[, axis])` Call func on self producing a DataFrame with transformed values.\n",
        "\n",
        "`transpose(*args[, copy])` Transpose index and columns.\n",
        "\n",
        "`truediv(other[, axis, level, fill_value])` Get Floating division of dataframe and other, element-wise (binary operator truediv).\n",
        "\n",
        "`truncate([before, after, axis, copy])` Truncate a Series or DataFrame before and after some index value.\n",
        "\n",
        "`tshift([periods, freq, axis])` (DEPRECATED)` Shift the time index, using the index’s frequency if available.\n",
        "\n",
        "`tz_convert(tz[, axis, level, copy])` Convert tz-aware axis to target time zone.\n",
        "\n",
        "`tz_localize(tz[, axis, level, copy, …])` Localize tz-naive index of a Series or DataFrame to target time zone.\n",
        "\n",
        "`unstack([level, fill_value])` Pivot a level of the (necessarily hierarchical)` index labels.\n",
        "\n",
        "`update(other[, join, overwrite, …])` Modify in place using non-NA values from another DataFrame.\n",
        "\n",
        "`value_counts([subset, normalize, sort, …])` Return a Series containing counts of unique rows in the DataFrame.\n",
        "\n",
        "`var([axis, skipna, level, ddof, numeric_only])` Return unbiased variance over requested axis.\n",
        "\n",
        "`where(cond[, other, inplace, axis, level, …])` Replace values where the condition is False.\n",
        "\n",
        "`xs(key[, axis, level, drop_level])` Return cross-section from the Series/DataFrame.\n"
      ]
    },
    {
      "cell_type": "markdown",
      "metadata": {
        "id": "I6P-DeGYkicV"
      },
      "source": [
        "There are also module-wide functions that are helpful for manipulation, but many of them are similar to the Series/DataFrame functions.\n",
        "\n"
      ]
    },
    {
      "cell_type": "markdown",
      "metadata": {
        "id": "Eimr1zoYkoPp"
      },
      "source": [
        "Understanding your dataset processing goals is important before deciding what manipulation functiosn you need. Google is once again our best friend here."
      ]
    },
    {
      "cell_type": "markdown",
      "metadata": {
        "id": "_ZZCeworAele"
      },
      "source": [
        "# 3. `pandas` Data Visualization"
      ]
    },
    {
      "cell_type": "markdown",
      "metadata": {
        "id": "AErd22NbkZZS"
      },
      "source": [
        "We will lastly show a quick example of pandas data visualization. \n",
        "\n",
        "Pandas has some matplotlib plotting capabilities with the `DataFrame.plot` and `Series.plot` functions:\n",
        "\n",
        "\n",
        "### `Series.plot`\n",
        "`Series.plot([kind, ax, figsize, ….])` Series plotting accessor and method\n",
        "\n",
        "`Series.plot.area([x, y])` Draw a stacked area plot.\n",
        "\n",
        "`Series.plot.bar([x, y])` Vertical bar plot.\n",
        "\n",
        "`Series.plot.barh([x, y])` Make a horizontal bar plot.\n",
        "\n",
        "`Series.plot.box([by])` Make a box plot of the DataFrame columns.\n",
        "\n",
        "`Series.plot.density([bw_method, ind])` Generate Kernel Density Estimate plot using Gaussian kernels.\n",
        "\n",
        "`Series.plot.hist([by, bins])` Draw one histogram of the DataFrame’s columns.\n",
        "\n",
        "`Series.plot.kde([bw_method, ind])` Generate Kernel Density Estimate plot using Gaussian kernels.\n",
        "\n",
        "`Series.plot.line([x, y])` Plot Series or DataFrame as lines.\n",
        "\n",
        "`Series.plot.pie(**kwargs)` Generate a pie plot.\n",
        "\n",
        "`Series.hist([by, ax, grid, xlabelsize, …])` Draw histogram of the input series using matplotlib.\n",
        "\n",
        "\n",
        "### `DataFrame.plot`\n",
        "`DataFrame.plot([x, y, kind, ax, ….])` DataFrame plotting accessor and method\n",
        "\n",
        "`DataFrame.plot.area([x, y])` Draw a stacked area plot.\n",
        "\n",
        "`DataFrame.plot.bar([x, y])` Vertical bar plot.\n",
        "\n",
        "`DataFrame.plot.barh([x, y])` Make a horizontal bar plot.\n",
        "\n",
        "`DataFrame.plot.box([by])` Make a box plot of the DataFrame columns.\n",
        "\n",
        "`DataFrame.plot.density([bw_method, ind])` Generate Kernel Density Estimate plot using Gaussian kernels.\n",
        "\n",
        "`DataFrame.plot.hexbin(x, y[, C, …])` Generate a hexagonal binning plot.\n",
        "\n",
        "`DataFrame.plot.hist([by, bins])` Draw one histogram of the DataFrame’s columns.\n",
        "\n",
        "`DataFrame.plot.kde([bw_method, ind])` Generate Kernel Density Estimate plot using Gaussian kernels.\n",
        "\n",
        "`DataFrame.plot.line([x, y])` Plot Series or DataFrame as lines.\n",
        "\n",
        "`DataFrame.plot.pie(**kwargs)` Generate a pie plot.\n",
        "\n",
        "`DataFrame.plot.scatter(x, y[, s, c])` Create a scatter plot with varying marker point size and color.\n",
        "\n",
        "`DataFrame.boxplot([column, by, ax, …])` Make a box plot from DataFrame columns.\n",
        "\n",
        "`DataFrame.hist([column, by, grid, …])` Make a histogram of the DataFrame’s."
      ]
    },
    {
      "cell_type": "markdown",
      "metadata": {
        "id": "azfVhxGIlCMd"
      },
      "source": [
        "Lets do some visualization on the injury data:"
      ]
    },
    {
      "cell_type": "code",
      "metadata": {
        "colab": {
          "base_uri": "https://localhost:8080/",
          "height": 1000
        },
        "id": "hLkb8HnblCs8",
        "outputId": "da5c301f-be02-4a19-a46a-2793024986d2"
      },
      "source": [
        "top_10_players.plot(kind='barh')\n",
        "top_10_players.plot(kind='bar')\n",
        "top_10_players.plot(kind='pie', subplots=True, legend=False)\n",
        "top_10_players.plot(kind='line')\n",
        "top_10_players.plot(kind='density')"
      ],
      "execution_count": null,
      "outputs": [
        {
          "output_type": "execute_result",
          "data": {
            "text/plain": [
              "<matplotlib.axes._subplots.AxesSubplot at 0x7f0fed6f06a0>"
            ]
          },
          "metadata": {
            "tags": []
          },
          "execution_count": 13
        },
        {
          "output_type": "display_data",
          "data": {
            "image/png": "[encoded data removed]",
            "text/plain": [
              "<Figure size 432x288 with 1 Axes>"
            ]
          },
          "metadata": {
            "tags": [],
            "needs_background": "light"
          }
        },
        {
          "output_type": "display_data",
          "data": {
            "image/png": "[encoded data removed]",
            "text/plain": [
              "<Figure size 432x288 with 1 Axes>"
            ]
          },
          "metadata": {
            "tags": [],
            "needs_background": "light"
          }
        },
        {
          "output_type": "display_data",
          "data": {
            "image/png": "[encoded data removed]",
            "text/plain": [
              "<Figure size 432x288 with 1 Axes>"
            ]
          },
          "metadata": {
            "tags": []
          }
        },
        {
          "output_type": "display_data",
          "data": {
            "image/png": "[encoded data removed]",
            "text/plain": [
              "<Figure size 432x288 with 1 Axes>"
            ]
          },
          "metadata": {
            "tags": [],
            "needs_background": "light"
          }
        },
        {
          "output_type": "display_data",
          "data": {
            "image/png": "[encoded data removed]",
            "text/plain": [
              "<Figure size 432x288 with 1 Axes>"
            ]
          },
          "metadata": {
            "tags": [],
            "needs_background": "light"
          }
        }
      ]
    },
    {
      "cell_type": "markdown",
      "metadata": {
        "id": "8oWOW4kurvQh"
      },
      "source": [
        "\n",
        "\n",
        "\n",
        "There is also a pandas plotting submodule that provides useful functions, but its not really necessary for simple things.\n",
        "\n",
        "\n",
        "### `pandas.plotting`:\n",
        "\n",
        "`andrews_curves(frame, class_column[, ax, …])` Generate a matplotlib plot of Andrews curves, for visualising clusters of multivariate data.\n",
        "\n",
        "`autocorrelation_plot(series[, ax])` Autocorrelation plot for time series.\n",
        "\n",
        "`bootstrap_plot(series[, fig, size, samples])` Bootstrap plot on mean, median and mid-range statistics.\n",
        "\n",
        "`boxplot(data[, column, by, ax, fontsize, …])` Make a box plot from DataFrame columns.\n",
        "\n",
        "`deregister_matplotlib_converters()` Remove pandas formatters and converters.\n",
        "\n",
        "`lag_plot(series[, lag, ax])` Lag plot for time series.\n",
        "\n",
        "`parallel_coordinates(frame, class_column[, …])` Parallel coordinates plotting.\n",
        "\n",
        "`plot_params` Stores pandas plotting options.\n",
        "\n",
        "`radviz(frame, class_column[, ax, color, …])` Plot a multidimensional dataset in 2D.\n",
        "\n",
        "`register_matplotlib_converters()` Register pandas formatters and converters with matplotlib.\n",
        "\n",
        "`scatter_matrix(frame[, alpha, figsize, ax, …])` Draw a matrix of scatter plots.\n",
        "\n",
        "`table(ax, data[, rowLabels, colLabels])` Helper function to convert DataFrame and Series to matplotlib.table.\n",
        "\n"
      ]
    },
    {
      "cell_type": "markdown",
      "metadata": {
        "id": "ltlSA7aKpQ65"
      },
      "source": [
        "As you can see, its pretty simple. Definitely check out the full api documentation for pandas plotting generally and for the `Series` and `Dataframe` objects for information on the plotting capablities."
      ]
    },
    {
      "cell_type": "markdown",
      "metadata": {
        "id": "6B0F6VKK5Rst"
      },
      "source": [
        "## 4. Additional Examples, Tutorials and Extended Learning\n",
        "\n",
        "Depending on your application, `pandas` may provide the tools you need.\n",
        "\n",
        "Check out the `pandas` reference [here](https://numpy.org/doc/stable/), and some useful tutorials [here](https://pandas.pydata.org/docs/getting_started/index.html#getting-started) and [here](https://pandas.pydata.org/docs/user_guide/10min.html#min)."
      ]
    },
    {
      "cell_type": "markdown",
      "metadata": {
        "id": "Uek_ca8ZXOQy"
      },
      "source": [
        "[Next time,](https://www.youtube.com/channel/UCvVAxOBEAMgu7WwTcFptt-w?sub_confirmation=1) we're going to talk about Virtual Environments, which can save you from the pits of dependency hell."
      ]
    }
  ]
}